{
 "cells": [
  {
   "cell_type": "markdown",
   "id": "1d4254a4",
   "metadata": {},
   "source": [
    "In this project, we'll work with a data set of submissions to popular technology site Hacker News.\n",
    "\n",
    "Hacker News is a site started by the startup incubator [**_Y Combinator_**](https://www.ycombinator.com/), where user-submitted stories (known as \"posts\") are voted and commented upon, similar to reddit. Hacker News is extremely popular in technology and startup circles, and posts that make it to the top of Hacker News' listings can get hundreds of thousands of visitors as a result.\n",
    "\n",
    "You can find the data set [**_here_**](https://www.kaggle.com/hacker-news/hacker-news-posts)\n",
    "\n",
    "We're specifically interested in posts whose titles begin with either __Ask HN__ or __Show HN__. Users submit __Ask HN__ posts to ask the Hacker News community a specific question.\n",
    "\n",
    "Likewise, users submit __Show HN__ posts to show the Hacker News community a project, product, or just generally something interesting.\n",
    "\n",
    "We'll compare these two types of posts to determine the following:\n",
    "\n",
    "- Do `Ask HN` or `Show HN` receive more comments on average?  \n",
    "- Do posts created at a certain time receive more comments on average?"
   ]
  },
  {
   "cell_type": "code",
   "execution_count": 1,
   "id": "83052f18",
   "metadata": {},
   "outputs": [
    {
     "name": "stdout",
     "output_type": "stream",
     "text": [
      "['id', 'title', 'url', 'num_points', 'num_comments', 'author', 'created_at']\n",
      "[['12579008', 'You have two days to comment if you want stem cells to be classified as your own', 'http://www.regulations.gov/document?D=FDA-2015-D-3719-0018', '1', '0', 'altstar', '9/26/2016 3:26'], ['12579005', 'SQLAR  the SQLite Archiver', 'https://www.sqlite.org/sqlar/doc/trunk/README.md', '1', '0', 'blacksqr', '9/26/2016 3:24'], ['12578997', 'What if we just printed a flatscreen television on the side of our boxes?', 'https://medium.com/vanmoof/our-secrets-out-f21c1f03fdc8#.ietxmez43', '1', '0', 'pavel_lishin', '9/26/2016 3:19'], ['12578989', 'algorithmic music', 'http://cacm.acm.org/magazines/2011/7/109891-algorithmic-composition/fulltext', '1', '0', 'poindontcare', '9/26/2016 3:16'], ['12578979', 'How the Data Vault Enables the Next-Gen Data Warehouse and Data Lake', 'https://www.talend.com/blog/2016/05/12/talend-and-Â\\x93the-data-vaultÂ\\x94', '1', '0', 'markgainor1', '9/26/2016 3:14']]\n"
     ]
    }
   ],
   "source": [
    "from csv import reader\n",
    "import datetime as dt\n",
    "\n",
    "opened_file = open(\"C:/Users/ifediorah.kenechukwu/Documents/PythonDA/Datasets/hacker_news.csv\", encoding = \"utf-8\")\n",
    "read_file = reader(opened_file)\n",
    "hn = list(read_file)\n",
    "opened_file.close()\n",
    "headers = hn[0]\n",
    "hn = hn[1:]\n",
    "\n",
    "print(headers)\n",
    "print(hn[:5])"
   ]
  },
  {
   "cell_type": "code",
   "execution_count": 2,
   "id": "3a67eb5a",
   "metadata": {},
   "outputs": [
    {
     "name": "stdout",
     "output_type": "stream",
     "text": [
      "293119\n"
     ]
    }
   ],
   "source": [
    "print(len(hn))"
   ]
  },
  {
   "cell_type": "markdown",
   "id": "92079f81",
   "metadata": {},
   "source": [
    "Recall, we are only interested in posts that begins with `Ask HN` and `Show HN`\n",
    "\n",
    "We will group our data into separate lists containing these category of posts"
   ]
  },
  {
   "cell_type": "code",
   "execution_count": 3,
   "id": "9bfdc041",
   "metadata": {},
   "outputs": [
    {
     "name": "stdout",
     "output_type": "stream",
     "text": [
      "9139\n",
      "10158\n",
      "273822\n"
     ]
    }
   ],
   "source": [
    "ask_posts = []\n",
    "show_posts = []\n",
    "other_posts = []\n",
    "\n",
    "for row in hn:\n",
    "    title = row[1].lower()\n",
    "    if title.startswith('ask hn'):\n",
    "        ask_posts.append(row)\n",
    "    elif title.startswith('show hn'):\n",
    "        show_posts.append(row)\n",
    "    else:\n",
    "        other_posts.append(row)\n",
    "print(len(ask_posts))\n",
    "print(len(show_posts))\n",
    "print(len(other_posts))"
   ]
  },
  {
   "cell_type": "markdown",
   "id": "60a07d59",
   "metadata": {},
   "source": [
    "Since we are only concerned with `Ask Hn` and `Show HN` posts, we can see that our data has been reduced to about 20,000 entries"
   ]
  },
  {
   "cell_type": "code",
   "execution_count": 4,
   "id": "67753377",
   "metadata": {},
   "outputs": [
    {
     "name": "stdout",
     "output_type": "stream",
     "text": [
      "[['12578908', 'Ask HN: What TLD do you use for local development?', '', '4', '7', 'Sevrene', '9/26/2016 2:53'], ['12578522', 'Ask HN: How do you pass on your work when you die?', '', '6', '3', 'PascLeRasc', '9/26/2016 1:17'], ['12577908', 'Ask HN: How a DNS problem can be limited to a geographic region?', '', '1', '0', 'kuon', '9/25/2016 22:57']]\n"
     ]
    }
   ],
   "source": [
    "print(ask_posts[:3])"
   ]
  },
  {
   "cell_type": "code",
   "execution_count": 5,
   "id": "80beec1c",
   "metadata": {},
   "outputs": [
    {
     "name": "stdout",
     "output_type": "stream",
     "text": [
      "[['12578335', 'Show HN: Finding puns computationally', 'http://puns.samueltaylor.org/', '2', '0', 'saamm', '9/26/2016 0:36'], ['12578182', 'Show HN: A simple library for complicated animations', 'https://christinecha.github.io/choreographer-js/', '1', '0', 'christinecha', '9/26/2016 0:01'], ['12578098', 'Show HN: WebGL visualization of DNA sequences', 'http://grondilu.github.io/dna.html', '1', '0', 'grondilu', '9/25/2016 23:44']]\n"
     ]
    }
   ],
   "source": [
    "print(show_posts[:3])"
   ]
  },
  {
   "cell_type": "markdown",
   "id": "668ff0cb",
   "metadata": {},
   "source": [
    "Now let's determine which set of posts receive more comments on an average"
   ]
  },
  {
   "cell_type": "code",
   "execution_count": 6,
   "id": "38644cb0",
   "metadata": {},
   "outputs": [
    {
     "name": "stdout",
     "output_type": "stream",
     "text": [
      "10.393478498741656\n"
     ]
    }
   ],
   "source": [
    "# Calculating average comments for \"Ask HN\" posts\n",
    "total_ask_comments = 0\n",
    "for post in ask_posts:\n",
    "    total_ask_comments += int(post[4])\n",
    "avg_ask_comments = total_ask_comments/len(ask_posts)\n",
    "print(avg_ask_comments)"
   ]
  },
  {
   "cell_type": "code",
   "execution_count": 7,
   "id": "123850cc",
   "metadata": {},
   "outputs": [
    {
     "name": "stdout",
     "output_type": "stream",
     "text": [
      "4.886099625910612\n"
     ]
    }
   ],
   "source": [
    "# Calculating average comments for \"Show HN\" posts\n",
    "total_show_comments = 0\n",
    "for post in show_posts:\n",
    "    total_show_comments += int(post[4])\n",
    "avg_show_comments = total_show_comments/len(show_posts)\n",
    "print(avg_show_comments)"
   ]
  },
  {
   "cell_type": "markdown",
   "id": "d2769e88",
   "metadata": {},
   "source": [
    "#### `Ask HN` posts have more comments on an average than `Show HN` posts\n",
    "\n",
    "This is expected as humans tend to respond more to questions than to statements\n",
    "\n",
    "Since `Ask HN` posts have more comments on average, we'll focus our remaining analysis on these posts"
   ]
  },
  {
   "cell_type": "code",
   "execution_count": 8,
   "id": "93573cc1",
   "metadata": {},
   "outputs": [
    {
     "name": "stdout",
     "output_type": "stream",
     "text": [
      "[['12578908', 'Ask HN: What TLD do you use for local development?', '', '4', '7', 'Sevrene', '9/26/2016 2:53'], ['12578522', 'Ask HN: How do you pass on your work when you die?', '', '6', '3', 'PascLeRasc', '9/26/2016 1:17']]\n"
     ]
    }
   ],
   "source": [
    "print(ask_posts[:2])"
   ]
  },
  {
   "cell_type": "markdown",
   "id": "44ff6f39",
   "metadata": {},
   "source": [
    "Next, we'll determine if ask posts created at a certain time are more likely to attract comments. We'll use the following steps to perform this analysis:\n",
    "\n",
    "- Calculate the amount of ask posts created in each hour of the day, along with the number of comments received.\n",
    "- Calculate the average number of comments ask posts receive by hour created.\n",
    "To do this, we will use the datetime module to parse the time accuratelys and also create a freqquency table of posts created in each hour of the day\n",
    "\n",
    "##### Let's write a function to convert the time to a time format"
   ]
  },
  {
   "cell_type": "code",
   "execution_count": 33,
   "id": "401b329d",
   "metadata": {},
   "outputs": [
    {
     "name": "stdout",
     "output_type": "stream",
     "text": [
      "01\n"
     ]
    }
   ],
   "source": [
    "def get_hour(string):\n",
    "    formatted_time = dt.datetime.strptime(string, \"%m/%d/%Y %H:%M\")\n",
    "    converted_time = formatted_time.time()\n",
    "    return converted_time.strftime(\"%H\")\n",
    "\n",
    "print(get_hour(ask_posts[1][6]))"
   ]
  },
  {
   "cell_type": "markdown",
   "id": "eb132d8e",
   "metadata": {},
   "source": [
    "Now, let's create a frequency table for amount of posts created in each hour of the day"
   ]
  },
  {
   "cell_type": "code",
   "execution_count": 34,
   "id": "119ca44c",
   "metadata": {},
   "outputs": [],
   "source": [
    "result_list = []\n",
    "for item in ask_posts:\n",
    "    time_created = item[6]\n",
    "    comments = item[4]\n",
    "    result_list.append([time_created, comments])"
   ]
  },
  {
   "cell_type": "code",
   "execution_count": 35,
   "id": "20d087cc",
   "metadata": {},
   "outputs": [
    {
     "name": "stdout",
     "output_type": "stream",
     "text": [
      "[['9/26/2016 2:53', '7'], ['9/26/2016 1:17', '3'], ['9/25/2016 22:57', '0'], ['9/25/2016 22:48', '3']]\n"
     ]
    }
   ],
   "source": [
    "print(result_list[:4])"
   ]
  },
  {
   "cell_type": "code",
   "execution_count": 36,
   "id": "7b5d717c",
   "metadata": {},
   "outputs": [],
   "source": [
    "counts_by_hour = {}\n",
    "comments_by_hour = {}\n",
    "for row in result_list:\n",
    "    hour = get_hour(row[0])\n",
    "    comments = int(row[1])\n",
    "    if hour not in counts_by_hour:\n",
    "        counts_by_hour[hour] = 1\n",
    "        comments_by_hour[hour] = comments\n",
    "    else:\n",
    "        counts_by_hour[hour] += 1\n",
    "        comments_by_hour[hour] += comments"
   ]
  },
  {
   "cell_type": "code",
   "execution_count": 37,
   "id": "5012dd13",
   "metadata": {},
   "outputs": [
    {
     "name": "stdout",
     "output_type": "stream",
     "text": [
      "{'02': 269, '01': 282, '22': 383, '21': 518, '19': 552, '17': 587, '15': 646, '14': 513, '13': 444, '11': 312, '10': 282, '09': 222, '07': 226, '03': 271, '23': 343, '20': 510, '16': 579, '08': 257, '00': 301, '18': 614, '12': 342, '04': 243, '06': 234, '05': 209}\n",
      "{'02': 2996, '01': 2089, '22': 3372, '21': 4500, '19': 3954, '17': 5547, '15': 18525, '14': 4972, '13': 7245, '11': 2797, '10': 3013, '09': 1477, '07': 1585, '03': 2154, '23': 2297, '20': 4462, '16': 4466, '08': 2362, '00': 2277, '18': 4877, '12': 4234, '04': 2360, '06': 1587, '05': 1838}\n"
     ]
    }
   ],
   "source": [
    "print(counts_by_hour)\n",
    "print(comments_by_hour)"
   ]
  },
  {
   "cell_type": "markdown",
   "id": "bc8df43f",
   "metadata": {},
   "source": [
    "Now, we will use this two frequency tables to calculate the average number of comments ask posts created per hour of the day received"
   ]
  },
  {
   "cell_type": "code",
   "execution_count": 46,
   "id": "5f185094",
   "metadata": {},
   "outputs": [],
   "source": [
    "avg_by_hour = []\n",
    "for row in counts_by_hour:\n",
    "    avg_by_hour.append([row, comments_by_hour[row]/counts_by_hour[row]])\n",
    "    "
   ]
  },
  {
   "cell_type": "code",
   "execution_count": 47,
   "id": "e5b757e7",
   "metadata": {},
   "outputs": [
    {
     "name": "stdout",
     "output_type": "stream",
     "text": [
      "['00', 7.5647840531561465]\n",
      "['01', 7.407801418439717]\n",
      "['02', 11.137546468401487]\n",
      "['03', 7.948339483394834]\n",
      "['04', 9.7119341563786]\n",
      "['05', 8.794258373205741]\n",
      "['06', 6.782051282051282]\n",
      "['07', 7.013274336283186]\n",
      "['08', 9.190661478599221]\n",
      "['09', 6.653153153153153]\n",
      "['10', 10.684397163120567]\n",
      "['11', 8.96474358974359]\n",
      "['12', 12.380116959064328]\n",
      "['13', 16.31756756756757]\n",
      "['14', 9.692007797270955]\n",
      "['15', 28.676470588235293]\n",
      "['16', 7.713298791018998]\n",
      "['17', 9.449744463373083]\n",
      "['18', 7.94299674267101]\n",
      "['19', 7.163043478260869]\n",
      "['20', 8.749019607843136]\n",
      "['21', 8.687258687258687]\n",
      "['22', 8.804177545691905]\n",
      "['23', 6.696793002915452]\n"
     ]
    }
   ],
   "source": [
    "for row in sorted(avg_by_hour):\n",
    "    print(row)"
   ]
  },
  {
   "cell_type": "markdown",
   "id": "0b7bd1eb",
   "metadata": {},
   "source": [
    "Although we have what we are looking for, it is difficult to easily identify what posts have highest average comments by hour. Let's sort this list to look more presentable"
   ]
  },
  {
   "cell_type": "code",
   "execution_count": 48,
   "id": "3352b948",
   "metadata": {},
   "outputs": [],
   "source": [
    "# create a list with the values of avg_by_hour swapped\n",
    "\n",
    "swap_avg_by_hour = []\n",
    "for item in avg_by_hour:\n",
    "    swap_avg_by_hour.append([item[1],item[0]])\n",
    "sorted_swap = sorted(swap_avg_by_hour, reverse = True)"
   ]
  },
  {
   "cell_type": "code",
   "execution_count": 49,
   "id": "cf3e8ba1",
   "metadata": {},
   "outputs": [
    {
     "name": "stdout",
     "output_type": "stream",
     "text": [
      "Top 5 Hours for Ask Posts Comments\n",
      "15:00: 28.68 average comments per post\n",
      "13:00: 16.32 average comments per post\n",
      "12:00: 12.38 average comments per post\n",
      "02:00: 11.14 average comments per post\n",
      "10:00: 10.68 average comments per post\n"
     ]
    }
   ],
   "source": [
    "print(\"Top 5 Hours for Ask Posts Comments\")\n",
    "\n",
    "for item in sorted_swap[:5]:\n",
    "    print(\"{}:00: {:.2f} average comments per post\".format(item[1],item[0]))"
   ]
  },
  {
   "cell_type": "markdown",
   "id": "5cdb39da",
   "metadata": {},
   "source": [
    "### Conclusion\n",
    "\n",
    "From these, we can deduce that `Ask HN` posts created at about `3pm`,`1pm`,`12noon`,`2am`, and `10am` are more likely to get more engagements.\n",
    "\n",
    "So if you want to get engagements, post during these hours"
   ]
  }
 ],
 "metadata": {
  "kernelspec": {
   "display_name": "Python 3 (ipykernel)",
   "language": "python",
   "name": "python3"
  },
  "language_info": {
   "codemirror_mode": {
    "name": "ipython",
    "version": 3
   },
   "file_extension": ".py",
   "mimetype": "text/x-python",
   "name": "python",
   "nbconvert_exporter": "python",
   "pygments_lexer": "ipython3",
   "version": "3.9.7"
  }
 },
 "nbformat": 4,
 "nbformat_minor": 5
}
